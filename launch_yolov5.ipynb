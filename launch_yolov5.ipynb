{
 "cells": [
  {
   "cell_type": "code",
   "execution_count": 1,
   "metadata": {
    "pycharm": {
     "name": "#%%\n"
    }
   },
   "outputs": [],
   "source": [
    "import shutil\n",
    "import os, sys, random\n",
    "from glob import glob\n",
    "import pandas as pd\n",
    "from shutil import copyfile\n",
    "import pandas as pd\n",
    "from sklearn import preprocessing, model_selection\n",
    "import matplotlib.pyplot as plt\n",
    "from matplotlib import patches\n",
    "import numpy as np\n",
    "import os\n",
    "%matplotlib inline"
   ]
  },
  {
   "cell_type": "markdown",
   "metadata": {},
   "source": [
    "Cloning Official Repo\n",
    "\n"
   ]
  },
  {
   "cell_type": "code",
   "execution_count": 2,
   "metadata": {
    "pycharm": {
     "name": "#%%\n"
    }
   },
   "outputs": [],
   "source": [
    "# !git clone  'https://github.com/ultralytics/yolov5.git'\n",
    "# !sed -i 's/PyYAML>=5.3.1/PyYAML==5.4.1/g' ./yolov5/requirements.txt\n",
    "# !pip install -qr 'yolov5/requirements.txt'"
   ]
  },
  {
   "cell_type": "code",
   "execution_count": 3,
   "metadata": {
    "pycharm": {
     "is_executing": true,
     "name": "#%%\n"
    }
   },
   "outputs": [
    {
     "name": "stdout",
     "output_type": "stream",
     "text": [
      "train: /home/vincent/PycharmProjects/B_and_D/data/tobacco_yolo_format/images/train\r\n",
      "val: /home/vincent/PycharmProjects/B_and_D/data/tobacco_yolo_format/images/valid\r\n",
      "\r\n",
      "nc: 2\r\n",
      "names: ['DLLogo', 'DLSignature']"
     ]
    }
   ],
   "source": [
    "# Setting the model parameters\n",
    "# shutil.copyfile('yolov5/tobacco_data.yaml', 'yolov5/tobacco_data.yaml') # copying the custom_dataset.yaml file to the project repo\n",
    "# setting number of classes to two (since the tobacco 800 dataset contains 2 classes, Logo & Signature)\n",
    "!sed -i 's/nc: 80/nc: 2/g' ./yolov5/models/yolov5x.yaml\n",
    "!cat yolov5/tobacco_data.yaml"
   ]
  },
  {
   "cell_type": "markdown",
   "metadata": {},
   "source": [
    "Setting some augmentations\n",
    "\n"
   ]
  },
  {
   "cell_type": "code",
   "execution_count": 4,
   "metadata": {
    "pycharm": {
     "is_executing": true,
     "name": "#%%\n"
    }
   },
   "outputs": [],
   "source": [
    "# !sed -i 's/perspective: 0.0/perspective: 0.1/g' ./yolov5/data/hyp.finetune.yaml\n",
    "# !sed -i 's/shear: 0.0/shear: 0.1/g' ./yolov5/data/hyp.finetune.yaml\n",
    "# !sed -i 's/flipud: 0.0/flipud: 0.5/g' ./yolov5/data/hyp.finetune.yaml\n",
    "# !sed -i 's/degrees: 0.0/degrees: 0.2/g' ./yolov5/data/hyp.finetune.yaml"
   ]
  },
  {
   "cell_type": "markdown",
   "metadata": {},
   "source": [
    "--cfg models/model.yaml is used to set the model we want to train on. I have used yolov5x.yaml."
   ]
  },
  {
   "cell_type": "code",
   "execution_count": null,
   "metadata": {
    "pycharm": {
     "is_executing": true,
     "name": "#%%\n"
    }
   },
   "outputs": [
    {
     "name": "stdout",
     "output_type": "stream",
     "text": [
      "\u001B[34m\u001B[1mwandb\u001B[0m: (1) Create a W&B account\r\n",
      "\u001B[34m\u001B[1mwandb\u001B[0m: (2) Use an existing W&B account\r\n",
      "\u001B[34m\u001B[1mwandb\u001B[0m: (3) Don't visualize my results\r\n",
      "\u001B[34m\u001B[1mwandb\u001B[0m: Enter your choice: (30 second timeout) "
     ]
    }
   ],
   "source": [
    "!python yolov5/train.py --img 638 --batch 16 --epochs 1 \\\n",
    "    --data yolov5/tobacco_data.yaml --cfg yolov5/models/yolov5x.yaml --name Tobacco-run"
   ]
  },
  {
   "cell_type": "code",
   "execution_count": 9,
   "metadata": {
    "pycharm": {
     "is_executing": true,
     "name": "#%%\n"
    }
   },
   "outputs": [
    {
     "name": "stdout",
     "output_type": "stream",
     "text": [
      "\u001B[34m\u001B[1mdetect: \u001B[0mweights=['runs/train/Tobacco-run/weights/best.pt'], source=tobacco_yolo_format/images/valid/, imgsz=[640, 640], conf_thres=0.25, iou_thres=0.45, max_det=1000, device=, view_img=False, save_txt=False, save_conf=False, save_crop=False, nosave=False, classes=[1], agnostic_nms=False, augment=False, visualize=False, update=False, project=yolov5/runs/detect, name=exp, exist_ok=False, line_thickness=2, hide_labels=True, hide_conf=True, half=False, dnn=False\n",
      "YOLOv5 🚀 v6.0-23-ga18b0c3 torch 1.9.1+cu102 CPU\n",
      "\n",
      "Traceback (most recent call last):\n",
      "  File \"yolov5/detect.py\", line 307, in <module>\n",
      "    main(opt)\n",
      "  File \"yolov5/detect.py\", line 302, in main\n",
      "    run(**vars(opt))\n",
      "  File \"/home/vincent/PycharmProjects/B_and_D/venv/lib/python3.8/site-packages/torch/autograd/grad_mode.py\", line 28, in decorate_context\n",
      "    return func(*args, **kwargs)\n",
      "  File \"yolov5/detect.py\", line 82, in run\n",
      "    model = torch.jit.load(w) if 'torchscript' in w else attempt_load(weights, map_location=device)\n",
      "  File \"/home/vincent/PycharmProjects/B_and_D/yolov5/models/experimental.py\", line 94, in attempt_load\n",
      "    ckpt = torch.load(attempt_download(w), map_location=map_location)  # load\n",
      "  File \"/home/vincent/PycharmProjects/B_and_D/venv/lib/python3.8/site-packages/torch/serialization.py\", line 594, in load\n",
      "    with _open_file_like(f, 'rb') as opened_file:\n",
      "  File \"/home/vincent/PycharmProjects/B_and_D/venv/lib/python3.8/site-packages/torch/serialization.py\", line 230, in _open_file_like\n",
      "    return _open_file(name_or_buffer, mode)\n",
      "  File \"/home/vincent/PycharmProjects/B_and_D/venv/lib/python3.8/site-packages/torch/serialization.py\", line 211, in __init__\n",
      "    super(_open_file, self).__init__(open(name, mode))\n",
      "FileNotFoundError: [Errno 2] No such file or directory: 'runs/train/Tobacco-run/weights/best.pt'\n"
     ]
    }
   ],
   "source": [
    "\n",
    "!python yolov5/detect.py --source tobacco_yolo_format/images/valid/ --weights 'runs/train/Tobacco-run/weights/best.pt' \\\n",
    " --hide-labels --hide-conf --classes 1 --line-thickness 2"
   ]
  },
  {
   "cell_type": "code",
   "execution_count": 14,
   "metadata": {
    "pycharm": {
     "is_executing": true,
     "name": "#%%\n"
    }
   },
   "outputs": [
    {
     "name": "stdout",
     "output_type": "stream",
     "text": [
      "\u001B[34m\u001B[1mdetect: \u001B[0mweights=['runs/train/Tobacco-run/weights/best.pt'], source=tobacco_yolo_format/images/valid/imagename, imgsz=[640, 640], conf_thres=0.25, iou_thres=0.45, max_det=1000, device=, view_img=False, save_txt=False, save_conf=False, save_crop=False, nosave=False, classes=[1], agnostic_nms=False, augment=False, visualize=False, update=False, project=yolov5/runs/detect, name=exp, exist_ok=False, line_thickness=2, hide_labels=True, hide_conf=True, half=False, dnn=False\n",
      "YOLOv5 🚀 v6.0-23-ga18b0c3 torch 1.9.1+cu102 CPU\n",
      "\n",
      "Traceback (most recent call last):\n",
      "  File \"yolov5/detect.py\", line 307, in <module>\n",
      "    main(opt)\n",
      "  File \"yolov5/detect.py\", line 302, in main\n",
      "    run(**vars(opt))\n",
      "  File \"/home/vincent/PycharmProjects/B_and_D/venv/lib/python3.8/site-packages/torch/autograd/grad_mode.py\", line 28, in decorate_context\n",
      "    return func(*args, **kwargs)\n",
      "  File \"yolov5/detect.py\", line 82, in run\n",
      "    model = torch.jit.load(w) if 'torchscript' in w else attempt_load(weights, map_location=device)\n",
      "  File \"/home/vincent/PycharmProjects/B_and_D/yolov5/models/experimental.py\", line 94, in attempt_load\n",
      "    ckpt = torch.load(attempt_download(w), map_location=map_location)  # load\n",
      "  File \"/home/vincent/PycharmProjects/B_and_D/venv/lib/python3.8/site-packages/torch/serialization.py\", line 594, in load\n",
      "    with _open_file_like(f, 'rb') as opened_file:\n",
      "  File \"/home/vincent/PycharmProjects/B_and_D/venv/lib/python3.8/site-packages/torch/serialization.py\", line 230, in _open_file_like\n",
      "    return _open_file(name_or_buffer, mode)\n",
      "  File \"/home/vincent/PycharmProjects/B_and_D/venv/lib/python3.8/site-packages/torch/serialization.py\", line 211, in __init__\n",
      "    super(_open_file, self).__init__(open(name, mode))\n",
      "FileNotFoundError: [Errno 2] No such file or directory: 'runs/train/Tobacco-run/weights/best.pt'\n"
     ]
    }
   ],
   "source": [
    "!python yolov5/detect.py --source tobacco_yolo_format/images/valid/imagename --weights 'runs/train/Tobacco-run/weights/best.pt' \\\n",
    " --hide-labels --hide-conf --classes 1 --line-thickness 2"
   ]
  },
  {
   "cell_type": "code",
   "execution_count": null,
   "metadata": {
    "pycharm": {
     "is_executing": true
    }
   },
   "outputs": [],
   "source": []
  }
 ],
 "metadata": {
  "kernelspec": {
   "display_name": "Python 3 (ipykernel)",
   "language": "python",
   "name": "python3"
  },
  "language_info": {
   "codemirror_mode": {
    "name": "ipython",
    "version": 3
   },
   "file_extension": ".py",
   "mimetype": "text/x-python",
   "name": "python",
   "nbconvert_exporter": "python",
   "pygments_lexer": "ipython3",
   "version": "3.8.10"
  }
 },
 "nbformat": 4,
 "nbformat_minor": 1
}